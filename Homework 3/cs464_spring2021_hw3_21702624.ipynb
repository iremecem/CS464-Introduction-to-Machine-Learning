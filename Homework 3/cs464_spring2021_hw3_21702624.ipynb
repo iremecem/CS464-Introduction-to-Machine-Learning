{
  "nbformat": 4,
  "nbformat_minor": 0,
  "metadata": {
    "colab": {
      "name": "cs464_spring2021_hw3.ipynb",
      "provenance": [],
      "collapsed_sections": [],
      "toc_visible": true
    },
    "kernelspec": {
      "name": "python382jvsc74a57bd031f2aee4e71d21fbe5cf8b01ff0e069b9275f58929596ceb00d14d90e3e16cd6",
      "display_name": "Python 3.8.2 64-bit"
    },
    "metadata": {
      "interpreter": {
        "hash": "31f2aee4e71d21fbe5cf8b01ff0e069b9275f58929596ceb00d14d90e3e16cd6"
      }
    },
    "accelerator": "GPU"
  },
  "cells": [
    {
      "cell_type": "markdown",
      "metadata": {
        "id": "KDSS2c_hXISc"
      },
      "source": [
        "<b><h1><center>CS 464</center></h1></b>\n",
        "<b><h1><center>Introduction to Machine Learning</center></h1></b>\n",
        "<b><h1><center>Spring 2021</center></h1></b>\n",
        "<b><h1><center>Homework 3</center></h1></b>\n",
        "<h4><center>Due: <b>10 May</b> (GMT+3)</center></h4>"
      ]
    },
    {
      "cell_type": "markdown",
      "metadata": {
        "id": "W5qurNR3XkKT"
      },
      "source": [
        "### Instructions\n",
        "\n",
        "<ul>\n",
        "    <li>\n",
        "    This homework contains both written and programming questions about neural networks and SVM. </li>\n",
        "    <li>\n",
        "    You are not required to provide answers for <b>Question 1</b> on this notebook. You may use any programming language you like. In either case, you are required to prepare a report for Question 1, named <b>Q1_report.pdf</b>, which contains your results, plots and discussion for Question 1 only.\n",
        "    </li>\n",
        "    <li>\n",
        "    You should implement <b>Question 2</b> on this notebook. Your plots should also be produced in this notebook. Each programming question has its own cell for your answer. You can implement your code directly in these cells, or you can call required functions which are defined in a different location for the given question.\n",
        "    </li>\n",
        "    <li>\n",
        "    For questions that you need to plot, your plot results have to be included in the cell output. For written questions, you may provide them either as comments in code cells or as seperate text cells. \n",
        "    </li>\n",
        "    <li>\n",
        "    For question 1, you are <b>ALLOWED</b> to use machine learning libraries for training SVM models.\n",
        "    </li>\n",
        "    <li>\n",
        "    For questions 2, you are <b>NOT ALLOWED</b> to use different libraries than given libraries in the code segments of this homework except for libraries included in Python Standard Library (https://docs.python.org/3/library/).\n",
        "    </li>\n",
        "    <li>\n",
        "    You are <b>NOT ALLOWED</b> to use a different deep learning framework than PyTorch.\n",
        "    </li>\n",
        "    <li>\n",
        "    <b>IMPORTANT:</b> If you are asked to discuss your results add a new text cell right after you provide your results. On the other hand, if you are asked to provide a written answer for a question add a text cell under the description of the corresponding question. \n",
        "    </li>\n",
        "    <li>\n",
        "    While submitting the homework file, please package notebook(\".ipynb\") and model (\".pth\") files as a gzipped TAR file or a ZIP file with the name cs464_hw3_section#_Firstname_Lastname. Please do not use any Turkish letters for any of your files including code files and model files. Upload your homework to Moodle.\n",
        "    </li>\n",
        "    <li>\n",
        "    This is an individual assignment for each student. That is, you are <b>NOT ALLOWED</b> to share your work with your classmates.</li>\n",
        "    <li> \n",
        "    If you do not follow the submission routes, deadlines and specifications, it will lead to a significant grade deduction.\n",
        "    </li>\n",
        "    <li> \n",
        "    If you have any questions regarding <b>question 1</b> you may send an email to <b>salman.mohammad@bilkent.edu.tr</b>.\n",
        "    </li>\n",
        "    <li> \n",
        "    If you have any questions regarding <b>question 2</b> you may send an email to <b>doruk.cakmakci@bilkent.edu.tr</b>.\n",
        "    </li>\n",
        "</ul>"
      ]
    },
    {
      "cell_type": "markdown",
      "metadata": {
        "id": "9d7BOVodYiGe"
      },
      "source": [
        "## Environment Setup"
      ]
    },
    {
      "cell_type": "markdown",
      "metadata": {
        "id": "EPlCx2GsYnHS"
      },
      "source": [
        "This homework is prepared by using Google Colab which already has access to required libraries. However, if you are using your own local Jupyter or any other Python notebook editor, you may use both anaconda or pip to install PyTorch to your own computer."
      ]
    },
    {
      "cell_type": "markdown",
      "metadata": {
        "id": "LM4dpplWZBGS"
      },
      "source": [
        "### Anaconda Installation\n",
        "\n",
        "<ul>\n",
        "    <li>Download anaconda from https://www.anaconda.com/download</li>\n",
        "    <li>Follow the instructions provided in https://conda.io/docs/user-guide/install/index.html#regular-installation</li>\n",
        "</ul>\n",
        "\n",
        "#### Creation of Virtual Environment\n",
        "\n",
        "<ul>\n",
        "    <li>Create python3.7 virtual environment for your hw3 using follow command from the command line<br>\n",
        "        <i>> conda create -n HW3 python=3.7 anaconda</i></li>\n",
        "    <li>Activate your virtual environment<br>\n",
        "        <i>> source activate HW3</i></li>\n",
        "    <li>To install auxiliary libraries, replace the \"package_name\" in the following command and run it in activated \"hw3\" environment <br>\n",
        "        <i>> pip install \"package_name\"<i></li>\n",
        "     <li>When you create your virtual environment with \"anaconda\" metapackage, jupyter notebook should be installed. Try:<br>\n",
        "         <i>> jupyter notebook</i>\n",
        "</ul>\n",
        "\n",
        "\n",
        "#### PyTorch Installation with Anaconda\n",
        "\n",
        "You should install PyTorch to your virtual environment which is created for the hw3. Therefore, you should activate your homework virtual environment before to start PyTorch installation.\n",
        "<li>> source activate HW3</li>\n",
        "\n",
        "After you have activated the virtual environment, then use one of the following commands to install pytorch for CPU for your system. See https://pytorch.org/ for help.\n",
        "<ul>\n",
        "<li>For MacOS:<br>\n",
        "    <i>> conda install pytorch torchvision -c pytorch</i>\n",
        "</li>\n",
        "<li>For Linux:<br>\n",
        "    <i>> conda install pytorch-cpu torchvision-cpu -c pytorch</i>\n",
        "</li>\n",
        "<li>For Windows:<br>\n",
        "    <i>> conda install pytorch-cpu torchvision-cpu -c pytorch</i><br>\n",
        "</li>"
      ]
    },
    {
      "cell_type": "markdown",
      "metadata": {
        "id": "AVlcWIXEZZGO"
      },
      "source": [
        "###Pip3 Installation\n",
        "<ul>\n",
        "    <li>Download pip3 from https://pip.pypa.io/en/stable/installing/</li>\n",
        "    <li>If you are using Windows, you may need to add Python to your enviroment variables. You may use the following tutorial to install Python and pip.\n",
        "    https://phoenixnap.com/kb/how-to-install-python-3-windows</li>\n",
        "</ul>\n",
        "\n",
        "#### PyTorch Installation with Pip\n",
        "<ul>\n",
        "<li>For MacOS:<br>\n",
        "    <i>> pip3 install torch torchvision</i>\n",
        "</li>\n",
        "<li>For Linux:<br>\n",
        "    <i>> pip3 install torch==1.3.1+cpu torchvision==0.4.2+cpu -f https://download.pytorch.org/whl/torch_stable.html</i>\n",
        "</li>\n",
        "<li>For Windows:<br>\n",
        "    <i>> pip3 install torch==1.3.1+cpu torchvision==0.4.2+cpu -f https://download.pytorch.org/whl/torch_stable.html</i><br>\n",
        "</li>\n"
      ]
    },
    {
      "cell_type": "markdown",
      "metadata": {
        "id": "I0CsUtpmZmBk"
      },
      "source": [
        "# Question 1 [30 pts.]\n",
        "\n",
        "\n",
        "\n"
      ]
    },
    {
      "cell_type": "markdown",
      "metadata": {
        "id": "UiQo8t-fqMHc"
      },
      "source": [
        "Please refer to Q1.pdf for the question."
      ]
    },
    {
      "cell_type": "markdown",
      "metadata": {
        "id": "fnAVhRr4eTPo"
      },
      "source": [
        "# Question 2 [70 pts.]"
      ]
    },
    {
      "cell_type": "markdown",
      "metadata": {
        "id": "GnaXgIskP6iY"
      },
      "source": [
        "Computer vision (CV) is the field of study which deals with how computers can gain high-level understanding from digital images or videos. For this question you will develop neural network models to classify images. You are encouraged to use GPU for model training. Here you will use a subset of Fashion-MNIST dataset for evaluating your networks. \n",
        "\n",
        "Fashion-MNIST dataset is composed of: (i) a training set of 60,000 images; and (ii) a test set of 10,000 images. These images are grayscale and have a size of 28x28. Each image belongs to one of the following categories: T-shirt/Top (Class 0), Trouser (Class 1), Pullover (Class 2), Dress (Class 3), Coat (Class 4), Sandal (Class 5), Shirt (Class 6), Sneaker (Class 7), Bag (Class 8) and Ankle boot (Class 9). For this question you will use half of the images in the official training set for training and validating your models, which we will refer to as the development dataset. Furthermore, you will evaluate your trained models on the test dataset. Both development and test datasets are provided to you as a pickled Python dictionary in _q2_dataset_. Keys of the dictionary are the following:\n",
        "*   *development_x*: 30,000 images for training and validating models.\n",
        "*   *development_y*: Class labels for the images in development set.\n",
        "*   *test_x*: 10,000 images for testing the models.\n",
        "*   *test_y*: Class labels for the images in the test set.\n",
        "*   *label2name*: a list whose elements are class names (e.g. Class 0 corresponds to the first element and contains \"T-shirt\").\n",
        "\n",
        "Libraries that are required in this question is given in the following code cell."
      ]
    },
    {
      "cell_type": "code",
      "metadata": {
        "id": "Z37KSYkSXHtz",
        "colab": {
          "base_uri": "https://localhost:8080/"
        },
        "outputId": "0fa1d10a-6f0c-403c-d232-b82f48f3c837"
      },
      "source": [
        "# Mount Google Drive\n",
        "from google.colab import drive\n",
        "drive.mount('/content/drive')\n",
        "\n",
        "import pdb\n",
        "import pickle\n",
        "from time import time\n",
        "\n",
        "import numpy as np\n",
        "import matplotlib.pyplot as plt\n",
        "\n",
        "import torch\n",
        "import torch.nn as nn\n",
        "import torch.nn.functional as F\n",
        "from torch.utils.data import Dataset, DataLoader\n",
        "from torchvision import models\n",
        "\n",
        "import matplotlib.pyplot as plt\n",
        "from sklearn.model_selection import train_test_split\n",
        "from sklearn.metrics import confusion_matrix, precision_score, recall_score, accuracy_score, f1_score\n",
        "from time import time\n",
        "\n",
        "torch.manual_seed(6)\n",
        "torch.cuda.manual_seed(6)\n",
        "np.random.seed(6)\n",
        "\n",
        "# You could add your own libraries form Python Standard Library in this cell. Any other external libraries are not allowed."
      ],
      "execution_count": 74,
      "outputs": [
        {
          "output_type": "stream",
          "text": [
            "Drive already mounted at /content/drive; to attempt to forcibly remount, call drive.mount(\"/content/drive\", force_remount=True).\n"
          ],
          "name": "stdout"
        }
      ]
    },
    {
      "cell_type": "markdown",
      "metadata": {
        "id": "Kkd-WIVwTQsn"
      },
      "source": [
        "### Data Loader [5 pts.]"
      ]
    },
    {
      "cell_type": "markdown",
      "metadata": {
        "id": "SjmkpzLCt-CO"
      },
      "source": [
        "An important part of such a task is to implement your own data loader. In this part, you will implement the <b>FashionMNISTDataset</b> class, which inherits from the Dataset class in PyTorch library. This class partially provided to you below.  You need to complete the code below to create your custom <b>FashionMNISTDataset</b> class which will be able to load your dataset. Implement the functions whose prototypes are given. Follow the TODO notes below. You have to divide the development set into <b>training (80%)</b> and <b>validation (20%)</b> sets.  These non-overlapping splits and the test split as well as the list stored at the \"label2name\" field of the dataset dictionary should be retrieved using the <b>create_dataset</b> function. You should create instances of FashionMNISTDataset for each split.  Since this data loader will be called to get the input for different models, your function should work in a least two modes:\n",
        "1. To be compatible with MLP, you need to flatten the images.\n",
        "<br>\n",
        "2. To be compatible with CNN, you need to resize the image to 1x28x28. Note that, you **should not** flatten the image in this mode.\n",
        "\n",
        "Hint 1: The dataset is not normalized and your results will heavily depend on your input."
      ]
    },
    {
      "cell_type": "code",
      "metadata": {
        "id": "x9fac_LpYdXE"
      },
      "source": [
        "class FashionMNISTDataset(Dataset):\n",
        "    # TODO:\n",
        "    \"\"\"Define constructor for FashionMNISTDataset class\n",
        "    HINT: You can pass processed data samples and their ground truth values as parameters\"\"\"\n",
        "    def __init__(self, features, labels): # you are free to change parameters\n",
        "      self.features = features\n",
        "      self.labels = labels\n",
        "\n",
        "    '''This function should return sample count in the dataset'''\n",
        "    def __len__(self):\n",
        "        return self.features.shape[0]\n",
        "\n",
        "    '''This function should return a sample and its ground truth value from the dataset corresponding to index parameter '''\n",
        "    def __getitem__(self, index):\n",
        "        feature = self.features[index]\n",
        "        label = self.labels[index]\n",
        "\n",
        "        return feature, label"
      ],
      "execution_count": 75,
      "outputs": []
    },
    {
      "cell_type": "code",
      "metadata": {
        "id": "vE3b0p2IWrdo"
      },
      "source": [
        "def create_dataset(path_to_dataset_file, mode):\n",
        "    # TODO: \n",
        "    # Read dataset files using pickle library\n",
        "    # Construct training, validation and test sets and return them\n",
        "\n",
        "    # Read file\n",
        "    infile = open(path_to_dataset_file,'rb')\n",
        "    data = pickle.load(infile)\n",
        "    infile.close()\n",
        "\n",
        "    development_X = data['development_X']\n",
        "    development_y = data['development_y']\n",
        "\n",
        "    test_X = data['test_X']\n",
        "    test_y = data['test_y']\n",
        "\n",
        "    label2name = data['label2name']\n",
        "\n",
        "    train_X, valid_X, train_y, valid_y = train_test_split(development_X, development_y, test_size=0.20, random_state=6)\n",
        "\n",
        "    if mode == \"MLP\":\n",
        "\n",
        "        train_X_reshaped = (np.reshape(train_X, (train_X.shape[0], 784))) / 255\n",
        "        valix_X_reshaped = (np.reshape(valid_X, (valid_X.shape[0], 784))) / 255\n",
        "        test_X_reshaped = (np.reshape(test_X, (test_X.shape[0], 784))) / 255\n",
        "\n",
        "        train_dataset = FashionMNISTDataset(torch.tensor(train_X_reshaped, dtype=torch.float32), torch.tensor(train_y))\n",
        "        vald_dataset = FashionMNISTDataset(torch.tensor(valix_X_reshaped, dtype=torch.float32), torch.tensor(valid_y))\n",
        "        test_dataset = FashionMNISTDataset(torch.tensor(test_X_reshaped, dtype=torch.float32), torch.tensor(test_y))\n",
        "\n",
        "    if mode == \"CNN\":\n",
        "        \n",
        "        train_X_reshaped = (np.reshape(train_X, (train_X.shape[0], 1, 28, 28))) / 255\n",
        "        valix_X_reshaped = (np.reshape(valid_X, (valid_X.shape[0], 1, 28, 28))) / 255\n",
        "        test_X_reshaped = (np.reshape(test_X, (test_X.shape[0], 1, 28, 28))) / 255\n",
        "\n",
        "        train_dataset = FashionMNISTDataset(torch.tensor(train_X_reshaped, dtype=torch.float32), torch.tensor(train_y))\n",
        "        vald_dataset = FashionMNISTDataset(torch.tensor(valix_X_reshaped, dtype=torch.float32), torch.tensor(valid_y))\n",
        "        test_dataset = FashionMNISTDataset(torch.tensor(test_X_reshaped, dtype=torch.float32), torch.tensor(test_y))\n",
        "\n",
        "    return train_dataset, vald_dataset, test_dataset, label2name"
      ],
      "execution_count": 76,
      "outputs": []
    },
    {
      "cell_type": "markdown",
      "metadata": {
        "id": "iz1yad18Yo7m"
      },
      "source": [
        "### Model Implementation [15 pts.]"
      ]
    },
    {
      "cell_type": "markdown",
      "metadata": {
        "id": "xhv_2w2oZVcL"
      },
      "source": [
        "#### Multi Layer Perceptron (MLP) [5 pts.]\n",
        "Now, implement your three layer neural network (i.e. one input and two hidden layers). MLP class, whose template is given below, will represent your neural network. First and second hidden layers will have 256 and 64 neurons, respectively. You will decide on the number of input and output neurons. Use ReLU as your hidden layer activation function. You need to pick a proper activation function for the output layer and a proper weight initialization scheme for fully-connected layers."
      ]
    },
    {
      "cell_type": "code",
      "metadata": {
        "id": "kLbnCwuvYy1N"
      },
      "source": [
        "class MLP(nn.Module):\n",
        "    '''Define your neural network'''\n",
        "    def __init__(self, **kwargs): # you can add any additional parameters you want \n",
        "      super(MLP, self).__init__()\n",
        "      self.input_layer = nn.Linear(in_features = 784, out_features = 256)\n",
        "      self.hidden_layer1 = nn.Linear(in_features = 256, out_features = 64)\n",
        "      self.hidden_layer2 = nn.Linear(in_features = 64, out_features = 10)\n",
        "      self.output_layer = nn.LogSoftmax(dim = 1)\n",
        "     \n",
        "    def forward(self, X): # you can add any additional parameters you want\n",
        "\n",
        "      output = self.input_layer(X)\n",
        "      output = F.relu(output)\n",
        "      output = self.hidden_layer1(output)\n",
        "      output = F.relu(output)\n",
        "      output = self.hidden_layer2(output)\n",
        "      output = F.relu(output)\n",
        "      output = self.output_layer(output)\n",
        "\n",
        "      return output"
      ],
      "execution_count": 77,
      "outputs": []
    },
    {
      "cell_type": "markdown",
      "metadata": {
        "id": "wFVQay-2Z7Ix"
      },
      "source": [
        "#### Convolutional Neural Network (CNN) [10 pts]\n",
        "\n",
        "Now implement your convolutional neural network. CNN class, whose template is given below, will represent your convolutional neural network. Your network will have several convolutional layers followed by a fully-connected classification layer. This model utilizes batch normalization which helps to  stabilize the learning process and dramatically reduces the number of training epochs required to train deep networks. You need to choose appropriate input and output neuron sizes, and  activation functions for the fully-connected layers. The architecture can be summarised as follows:\n",
        "<ul>\n",
        "  <li> 64 filters with size of 2 x 2 with stride 1 and zero padding to both sides, ReLU </li>\n",
        "  <li> 2 x 2 max pool. </li>\n",
        "  <li> 128 filters with size of 2 x 2 with stride 1 and zero padding to both sides, Batch Normalization, ReLU </li>\n",
        "  <li> 2 x 2 max pool. </li>\n",
        "  <li> Fully-connected layer </li>\n",
        "</ul>\n",
        "\n"
      ]
    },
    {
      "cell_type": "code",
      "metadata": {
        "id": "lNnoeEy-aGA3"
      },
      "source": [
        "class CNN(nn.Module):\n",
        "    '''Define your neural network'''\n",
        "    def __init__(self, **kwargs): # you can add any additional parameters you want\n",
        "      super().__init__()\n",
        "      self.cnn_layers = nn.Sequential(\n",
        "        nn.Conv2d(in_channels=1, out_channels=64, kernel_size=(2,2), stride=1, padding=1, padding_mode='zeros'),\n",
        "        nn.ReLU(),\n",
        "        nn.MaxPool2d(kernel_size=(2,2)),\n",
        "\n",
        "        nn.Conv2d(in_channels=64, out_channels=128, kernel_size=(2,2), stride=1, padding=1, padding_mode='zeros'),\n",
        "        nn.BatchNorm2d(128),\n",
        "        nn.ReLU(),\n",
        "        nn.MaxPool2d(kernel_size=(2,2)),\n",
        "\n",
        "        nn.Flatten(),\n",
        "        nn.Linear(128 * 7 * 7, 10),\n",
        "\n",
        "        nn.LogSoftmax(dim = 1))\n",
        "     \n",
        "    def forward(self, X): # you can add any additional parameters you want\n",
        "      output = self.cnn_layers(X)\n",
        "      return output"
      ],
      "execution_count": 78,
      "outputs": []
    },
    {
      "cell_type": "markdown",
      "metadata": {
        "id": "s4HT9fvm_jgX"
      },
      "source": [
        "### Model Training [20 pts.]"
      ]
    },
    {
      "cell_type": "markdown",
      "metadata": {
        "id": "o63kDDoXtzbV"
      },
      "source": [
        "Train both models for 50 epochs with properly processes inputs (i.e. call create_dataset function in mode \"mlp\" for MLP model and mode \"cnn\" for CNN model). Experiment with several optimizers including Stochastic Gradient Descent(SGD), SGD with momentum and Adam. Tune your learning rate. Save your best models (i.e. MLP and CNN models with highest performance) as \"best_mlp.pth\" and \"best_cnn.pth\", respectively. You may use any performance metric to compare performance of the models. However, you must explain your reasoning behind selected optimizer and model. During training you are expected to plot two properly formatted figures per model:\n",
        "<ol>\n",
        "<li>Training and validation losses vs. epochs</li>\n",
        "<li>Accuracy calculated on training and validation sets vs. epoch. \n",
        "</ol>\n",
        "\n",
        "Hint 1: Training the models on CPU should not take days. You are encouraged to train the models on GPU (Runtime > Change Runtime Type). \n",
        "Hint 2: Select batch size mindfully in order to train the models in a reasonable time.\n"
      ]
    },
    {
      "cell_type": "code",
      "metadata": {
        "id": "KSqzijf4gWY4",
        "colab": {
          "base_uri": "https://localhost:8080/"
        },
        "outputId": "010f0ad7-8652-4199-cd0c-68db18b802ed"
      },
      "source": [
        "use_gpu = torch.cuda.is_available()\n",
        "if use_gpu:\n",
        "   device = torch.device(\"cuda:0\")\n",
        "else:\n",
        "   device = torch.device(\"cpu\")\n",
        "print(use_gpu)"
      ],
      "execution_count": 79,
      "outputs": [
        {
          "output_type": "stream",
          "text": [
            "True\n"
          ],
          "name": "stdout"
        }
      ]
    },
    {
      "cell_type": "markdown",
      "metadata": {
        "id": "JnvgLkM5sfGf"
      },
      "source": [
        "#### Train MLP [8 pts]"
      ]
    },
    {
      "cell_type": "code",
      "metadata": {
        "id": "28Zs63u-CQn9",
        "colab": {
          "base_uri": "https://localhost:8080/",
          "height": 1000
        },
        "outputId": "7c600125-e6dd-42f4-c042-824475d6cf00"
      },
      "source": [
        "# HINT: note that your training time should not take many days. You may consider training on GPU.\n",
        "\n",
        "# TODO:\n",
        "# Pick your hyper parameters\n",
        "max_epoch = 50\n",
        "train_batch = 16\n",
        "test_batch = 16\n",
        "learning_rate = 1e-1\n",
        "\n",
        "use_gpu = torch.cuda.is_available()\n",
        "if use_gpu:\n",
        "   device = torch.device(\"cuda:0\")\n",
        "else:\n",
        "   device = torch.device(\"cpu\")\n",
        "\n",
        "torch.manual_seed(6)\n",
        "\n",
        "train_dataset, valid_dataset, test_dataset, class_names = create_dataset(\"/content/drive/MyDrive/cs464/q2_dataset\", \"MLP\")\n",
        "# Create train dataset loader\n",
        "train_loader = DataLoader(train_dataset, batch_size=train_batch)\n",
        "# Create validation dataset loader\n",
        "valid_loader = DataLoader(valid_dataset, batch_size=test_batch)\n",
        "# Create test dataset loader\n",
        "test_loader = DataLoader(test_dataset, batch_size=test_batch)\n",
        "# initialize your network\n",
        "model = MLP()\n",
        "model.to(device)\n",
        "\n",
        "criterion = nn.CrossEntropyLoss()\n",
        "optimizer = torch.optim.SGD(model.parameters(), lr=learning_rate)\n",
        "    \n",
        "# start training\n",
        "# for each epoch calculate validation performance\n",
        "# save best model according to validation performance\n",
        "train_loss = []\n",
        "val_loss =  []\n",
        "train_acc = []\n",
        "val_acc = [] \n",
        "\n",
        "total_step = len(train_loader)\n",
        "best_acc = 0\n",
        "\n",
        "for epoch in range(max_epoch):\n",
        "\n",
        " \n",
        "   model=model.train()\n",
        "   loss_train = 0\n",
        "   acc_train = 0\n",
        "   num_train = 0\n",
        "\n",
        "   loss_valid = 0\n",
        "   acc_valid = 0\n",
        "   num_valid = 0\n",
        "\n",
        "   for batch, (features, labels) in enumerate(train_loader):\n",
        "\n",
        "       features = features.to(device)\n",
        "       labels = labels.to(device)\n",
        "\n",
        "       optimizer.zero_grad()\n",
        "       \n",
        "       output = model(features)\n",
        "\n",
        "       predictions = torch.max(output, 1)[1]\n",
        "\n",
        "       num_true_predictions = (torch.sum(labels == predictions)).item()\n",
        "       batch_accuracy = num_true_predictions / len(labels)\n",
        "       acc_train += batch_accuracy\n",
        "\n",
        "\n",
        "       loss = criterion(output, labels)\n",
        "       loss_train += loss.item()\n",
        "\n",
        "       loss.backward()\n",
        "\n",
        "       optimizer.step()\n",
        "\n",
        "       num_train +=1\n",
        "\n",
        "   cur_acc_train = acc_train / num_train\n",
        "   cur_loss_train = loss_train / num_train\n",
        "\n",
        "   train_acc.append(cur_acc_train)\n",
        "   train_loss.append(cur_loss_train)\n",
        "\n",
        "\n",
        "   # Validation\n",
        "   model = model.eval()\n",
        "   with torch.no_grad():\n",
        "      for batch, (features, labels) in enumerate(valid_loader):\n",
        "\n",
        "         features = features.to(device)\n",
        "         labels = labels.to(device)\n",
        "\n",
        "         outputs = model(features)\n",
        "\n",
        "         loss = criterion(outputs, labels)\n",
        "         loss_valid += loss.item()\n",
        "\n",
        "         predictions = torch.max(outputs, 1)[1]\n",
        "         num_true_predictions = (torch.sum(labels == predictions)).item()\n",
        "         batch_accuracy = num_true_predictions / len(labels)\n",
        "         #print(batch_accuracy)\n",
        "         acc_valid += batch_accuracy\n",
        "\n",
        "         num_valid += 1\n",
        "\n",
        "   cur_acc_valid = acc_valid / num_valid\n",
        "   cur_loss_valid = loss_valid / num_valid\n",
        "\n",
        "   val_acc.append(cur_acc_valid)\n",
        "   val_loss.append(cur_loss_valid)\n",
        "\n",
        "   if cur_acc_valid > best_acc:\n",
        "      torch.save(model, \"/content/drive/MyDrive/cs464/best_mlp.pth\")\n",
        "      best_acc = cur_acc_valid\n",
        "\n",
        "   print ('Epoch [{}/{}], Train Accuracy {:.4f}, Train Loss: {:.4f} -- Valid Accuracy {:.4f}, Valid Loss: {:.4f}'.format(epoch+1, max_epoch, cur_acc_train, cur_loss_train, cur_acc_valid, cur_loss_valid))\n",
        "\n",
        "epochs = [num for num in range(1,51)]\n",
        "\n",
        "# plot losses vs epoch\n",
        "plt.title(\"Losses vs Epoch - MLP\") \n",
        "plt.xlabel(\"Epoch\")\n",
        "plt.ylabel(\"Cross Entropy Loss\")\n",
        "plt.plot(epochs, train_loss)\n",
        "plt.plot(epochs, val_loss)\n",
        "plt.legend(['Train', 'Validation'])\n",
        "plt.show()\n",
        "\n",
        "# plot accuracies vs epoch\n",
        "plt.title(\"Accuracies vs Epoch - MLP\") \n",
        "plt.xlabel(\"Epoch\")\n",
        "plt.ylabel(\"Accuracy\")\n",
        "plt.plot(epochs, train_acc)\n",
        "plt.plot(epochs, val_acc)\n",
        "plt.legend(['Train', 'Validation'])\n",
        "plt.show()\n"
      ],
      "execution_count": 83,
      "outputs": [
        {
          "output_type": "stream",
          "text": [
            "Epoch [1/50], Train Accuracy 0.5766, Train Loss: 1.1653 -- Valid Accuracy 0.6538, Valid Loss: 0.9161\n",
            "Epoch [2/50], Train Accuracy 0.6700, Train Loss: 0.8663 -- Valid Accuracy 0.7525, Valid Loss: 0.6704\n",
            "Epoch [3/50], Train Accuracy 0.7612, Train Loss: 0.6381 -- Valid Accuracy 0.7617, Valid Loss: 0.6359\n",
            "Epoch [4/50], Train Accuracy 0.7729, Train Loss: 0.6040 -- Valid Accuracy 0.7583, Valid Loss: 0.6346\n",
            "Epoch [5/50], Train Accuracy 0.7808, Train Loss: 0.5795 -- Valid Accuracy 0.7640, Valid Loss: 0.6239\n",
            "Epoch [6/50], Train Accuracy 0.7864, Train Loss: 0.5591 -- Valid Accuracy 0.7607, Valid Loss: 0.6324\n",
            "Epoch [7/50], Train Accuracy 0.7913, Train Loss: 0.5437 -- Valid Accuracy 0.7578, Valid Loss: 0.6455\n",
            "Epoch [8/50], Train Accuracy 0.7955, Train Loss: 0.5296 -- Valid Accuracy 0.7648, Valid Loss: 0.6308\n",
            "Epoch [9/50], Train Accuracy 0.8006, Train Loss: 0.5156 -- Valid Accuracy 0.7702, Valid Loss: 0.6341\n",
            "Epoch [10/50], Train Accuracy 0.8050, Train Loss: 0.5040 -- Valid Accuracy 0.7627, Valid Loss: 0.6537\n",
            "Epoch [11/50], Train Accuracy 0.8068, Train Loss: 0.4950 -- Valid Accuracy 0.7672, Valid Loss: 0.6547\n",
            "Epoch [12/50], Train Accuracy 0.8112, Train Loss: 0.4820 -- Valid Accuracy 0.8497, Valid Loss: 0.4559\n",
            "Epoch [13/50], Train Accuracy 0.9034, Train Loss: 0.2689 -- Valid Accuracy 0.8523, Valid Loss: 0.4427\n",
            "Epoch [14/50], Train Accuracy 0.9108, Train Loss: 0.2465 -- Valid Accuracy 0.8460, Valid Loss: 0.4804\n",
            "Epoch [15/50], Train Accuracy 0.9133, Train Loss: 0.2391 -- Valid Accuracy 0.8482, Valid Loss: 0.5030\n",
            "Epoch [16/50], Train Accuracy 0.9158, Train Loss: 0.2300 -- Valid Accuracy 0.8620, Valid Loss: 0.4464\n",
            "Epoch [17/50], Train Accuracy 0.9192, Train Loss: 0.2186 -- Valid Accuracy 0.8562, Valid Loss: 0.4928\n",
            "Epoch [18/50], Train Accuracy 0.9217, Train Loss: 0.2128 -- Valid Accuracy 0.8568, Valid Loss: 0.4822\n",
            "Epoch [19/50], Train Accuracy 0.9225, Train Loss: 0.2111 -- Valid Accuracy 0.8568, Valid Loss: 0.4713\n",
            "Epoch [20/50], Train Accuracy 0.9251, Train Loss: 0.2080 -- Valid Accuracy 0.8592, Valid Loss: 0.4864\n",
            "Epoch [21/50], Train Accuracy 0.9284, Train Loss: 0.1975 -- Valid Accuracy 0.8602, Valid Loss: 0.4858\n",
            "Epoch [22/50], Train Accuracy 0.9301, Train Loss: 0.1899 -- Valid Accuracy 0.8588, Valid Loss: 0.5268\n",
            "Epoch [23/50], Train Accuracy 0.9300, Train Loss: 0.1905 -- Valid Accuracy 0.8673, Valid Loss: 0.4429\n",
            "Epoch [24/50], Train Accuracy 0.9327, Train Loss: 0.1816 -- Valid Accuracy 0.8538, Valid Loss: 0.5477\n",
            "Epoch [25/50], Train Accuracy 0.9324, Train Loss: 0.1846 -- Valid Accuracy 0.8638, Valid Loss: 0.5050\n",
            "Epoch [26/50], Train Accuracy 0.9355, Train Loss: 0.1768 -- Valid Accuracy 0.8592, Valid Loss: 0.5207\n",
            "Epoch [27/50], Train Accuracy 0.9383, Train Loss: 0.1705 -- Valid Accuracy 0.8603, Valid Loss: 0.5180\n",
            "Epoch [28/50], Train Accuracy 0.9352, Train Loss: 0.1738 -- Valid Accuracy 0.8670, Valid Loss: 0.4940\n",
            "Epoch [29/50], Train Accuracy 0.9388, Train Loss: 0.1669 -- Valid Accuracy 0.8658, Valid Loss: 0.5180\n",
            "Epoch [30/50], Train Accuracy 0.9403, Train Loss: 0.1627 -- Valid Accuracy 0.8778, Valid Loss: 0.4712\n",
            "Epoch [31/50], Train Accuracy 0.9416, Train Loss: 0.1601 -- Valid Accuracy 0.8693, Valid Loss: 0.4905\n",
            "Epoch [32/50], Train Accuracy 0.9454, Train Loss: 0.1500 -- Valid Accuracy 0.8692, Valid Loss: 0.4932\n",
            "Epoch [33/50], Train Accuracy 0.9446, Train Loss: 0.1470 -- Valid Accuracy 0.8572, Valid Loss: 0.5808\n",
            "Epoch [34/50], Train Accuracy 0.9470, Train Loss: 0.1419 -- Valid Accuracy 0.8697, Valid Loss: 0.5185\n",
            "Epoch [35/50], Train Accuracy 0.9450, Train Loss: 0.1504 -- Valid Accuracy 0.8707, Valid Loss: 0.4830\n",
            "Epoch [36/50], Train Accuracy 0.9477, Train Loss: 0.1387 -- Valid Accuracy 0.8602, Valid Loss: 0.5366\n",
            "Epoch [37/50], Train Accuracy 0.9476, Train Loss: 0.1449 -- Valid Accuracy 0.8637, Valid Loss: 0.5819\n",
            "Epoch [38/50], Train Accuracy 0.9443, Train Loss: 0.1545 -- Valid Accuracy 0.8653, Valid Loss: 0.5737\n",
            "Epoch [39/50], Train Accuracy 0.9511, Train Loss: 0.1404 -- Valid Accuracy 0.8697, Valid Loss: 0.5698\n",
            "Epoch [40/50], Train Accuracy 0.9471, Train Loss: 0.1426 -- Valid Accuracy 0.8675, Valid Loss: 0.5387\n",
            "Epoch [41/50], Train Accuracy 0.9509, Train Loss: 0.1355 -- Valid Accuracy 0.8702, Valid Loss: 0.5604\n",
            "Epoch [42/50], Train Accuracy 0.9517, Train Loss: 0.1263 -- Valid Accuracy 0.8633, Valid Loss: 0.5747\n",
            "Epoch [43/50], Train Accuracy 0.9555, Train Loss: 0.1221 -- Valid Accuracy 0.8728, Valid Loss: 0.5148\n",
            "Epoch [44/50], Train Accuracy 0.9534, Train Loss: 0.1263 -- Valid Accuracy 0.8720, Valid Loss: 0.5995\n",
            "Epoch [45/50], Train Accuracy 0.9517, Train Loss: 0.1331 -- Valid Accuracy 0.8703, Valid Loss: 0.5985\n",
            "Epoch [46/50], Train Accuracy 0.9564, Train Loss: 0.1139 -- Valid Accuracy 0.8675, Valid Loss: 0.5893\n",
            "Epoch [47/50], Train Accuracy 0.9546, Train Loss: 0.1211 -- Valid Accuracy 0.8682, Valid Loss: 0.5605\n",
            "Epoch [48/50], Train Accuracy 0.9567, Train Loss: 0.1204 -- Valid Accuracy 0.8710, Valid Loss: 0.5559\n",
            "Epoch [49/50], Train Accuracy 0.9572, Train Loss: 0.1194 -- Valid Accuracy 0.8568, Valid Loss: 0.6609\n",
            "Epoch [50/50], Train Accuracy 0.9577, Train Loss: 0.1142 -- Valid Accuracy 0.8560, Valid Loss: 0.6057\n"
          ],
          "name": "stdout"
        },
        {
          "output_type": "display_data",
          "data": {
            "image/png": "[encoded data removed]",
            "text/plain": [
              "<Figure size 432x288 with 1 Axes>"
            ]
          },
          "metadata": {
            "tags": [],
            "needs_background": "light"
          }
        },
        {
          "output_type": "display_data",
          "data": {
            "image/png": "[encoded data removed]",
            "text/plain": [
              "<Figure size 432x288 with 1 Axes>"
            ]
          },
          "metadata": {
            "tags": [],
            "needs_background": "light"
          }
        }
      ]
    },
    {
      "cell_type": "markdown",
      "metadata": {
        "id": "e9wwVYbf7bzg"
      },
      "source": [
        "#### Train CNN [12 pts]"
      ]
    },
    {
      "cell_type": "code",
      "metadata": {
        "id": "MFQxDL8AtMwn",
        "colab": {
          "base_uri": "https://localhost:8080/",
          "height": 1000
        },
        "outputId": "35a38c8a-be6e-4c49-db81-976f2d3a47f4"
      },
      "source": [
        "# HINT: note that your training time should not take many days. You may consider training on GPU.\n",
        "\n",
        "# TODO:\n",
        "# Pick your hyper parameters\n",
        "max_epoch = 50\n",
        "train_batch = 20\n",
        "test_batch = 20\n",
        "learning_rate = 1e-5\n",
        "\n",
        "use_gpu = torch.cuda.is_available()\n",
        "if use_gpu:\n",
        "   device = torch.device(\"cuda:0\")\n",
        "else:\n",
        "   device = torch.device(\"cpu\")\n",
        "\n",
        "torch.manual_seed(6)\n",
        "\n",
        "train_dataset, valid_dataset, test_dataset, name = create_dataset(\"/content/drive/MyDrive/cs464/q2_dataset\", \"CNN\")\n",
        "# Create train dataset loader\n",
        "train_loader = DataLoader(train_dataset, batch_size=train_batch)\n",
        "# Create validation dataset loader\n",
        "valid_loader = DataLoader(valid_dataset, batch_size=train_batch)\n",
        "# Create test dataset loader\n",
        "test_loader = DataLoader(train_dataset, batch_size=test_batch)\n",
        "# initialize your network\n",
        "model = CNN()\n",
        "model.to(device)\n",
        "\n",
        "criterion = nn.CrossEntropyLoss()\n",
        "optimizer = torch.optim.Adam(model.parameters(), lr=learning_rate, weight_decay=1e-02)\n",
        "    \n",
        "# start training\n",
        "# for each epoch calculate validation performance\n",
        "# save best model according to validation performance\n",
        "train_loss = []\n",
        "val_loss =  []\n",
        "train_acc = []\n",
        "val_acc = [] \n",
        "\n",
        "total_step = len(train_loader)\n",
        "best_acc = 0\n",
        "\n",
        "for epoch in range(max_epoch):\n",
        "\n",
        " \n",
        "   model=model.train()\n",
        "   loss_train = 0\n",
        "   acc_train = 0\n",
        "   num_train = 0\n",
        "\n",
        "   loss_valid = 0\n",
        "   acc_valid = 0\n",
        "   num_valid = 0\n",
        "\n",
        "   for batch, (features, labels) in enumerate(train_loader):\n",
        "\n",
        "       features = features.to(device)\n",
        "       labels = labels.to(device)\n",
        "\n",
        "       optimizer.zero_grad()\n",
        "       \n",
        "       output = model(features)\n",
        "       \n",
        "       predictions = torch.max(output, 1)[1]\n",
        "\n",
        "       num_true_predictions = (torch.sum(labels == predictions)).item()\n",
        "       batch_accuracy = num_true_predictions / len(labels)\n",
        "       acc_train += batch_accuracy\n",
        "\n",
        "\n",
        "       loss = criterion(output, labels)\n",
        "       loss_train += loss.item()\n",
        "\n",
        "       loss.backward()\n",
        "\n",
        "       optimizer.step()\n",
        "\n",
        "       num_train +=1\n",
        "\n",
        "   cur_acc_train = acc_train / num_train\n",
        "   cur_loss_train = loss_train / num_train\n",
        "\n",
        "   train_acc.append(cur_acc_train)\n",
        "   train_loss.append(cur_loss_train)\n",
        "\n",
        "   # Validation\n",
        "   model = model.eval()\n",
        "   with torch.no_grad():\n",
        "      for batch, (features, labels) in enumerate(valid_loader):\n",
        "\n",
        "         features = features.to(device)\n",
        "         labels = labels.to(device)\n",
        "         outputs = model(features)\n",
        "\n",
        "         loss = criterion(outputs, labels)\n",
        "         loss_valid += loss.item()\n",
        "\n",
        "         predictions = torch.max(outputs, 1)[1]\n",
        "         num_true_predictions = (torch.sum(labels == predictions)).item()\n",
        "         batch_accuracy = num_true_predictions / len(labels)\n",
        "         acc_valid += batch_accuracy\n",
        "\n",
        "         num_valid += 1\n",
        "\n",
        "   \n",
        "   cur_acc_valid = acc_valid / num_valid\n",
        "   cur_loss_valid = loss_valid / num_valid\n",
        "\n",
        "   val_acc.append(cur_acc_valid)\n",
        "   val_loss.append(cur_loss_valid)\n",
        "\n",
        "   if cur_acc_valid > best_acc:\n",
        "      torch.save(model, \"/content/drive/MyDrive/cs464/best_cnn.pth\")\n",
        "      best_acc = cur_acc_valid\n",
        "\n",
        "   print ('Epoch [{}/{}], Train Accuracy {:.4f}, Train Loss: {:.4f} -- Valid Accuracy {:.4f}, Valid Loss: {:.4f}'.format(epoch+1, max_epoch, cur_acc_train, cur_loss_train, cur_acc_valid, cur_loss_valid))\n",
        "\n",
        "\n",
        "epochs = [num for num in range(1,51)]\n",
        "\n",
        "# plot losses vs epoch\n",
        "plt.title(\"Losses vs Epoch - CNN\") \n",
        "plt.xlabel(\"Epoch\")\n",
        "plt.ylabel(\"Cross Entropy Loss\")\n",
        "plt.plot(epochs, train_loss)\n",
        "plt.plot(epochs, val_loss)\n",
        "plt.legend(['Train', 'Validation'])\n",
        "plt.show()\n",
        "\n",
        "# plot accuracies vs epoch\n",
        "plt.title(\"Accuracies vs Epoch - CNN\") \n",
        "plt.xlabel(\"Epoch\")\n",
        "plt.ylabel(\"Accuracy\")\n",
        "plt.plot(epochs, train_acc)\n",
        "plt.plot(epochs, val_acc)\n",
        "plt.legend(['Train', 'Validation'])\n",
        "plt.show()\n",
        "\n"
      ],
      "execution_count": 81,
      "outputs": [
        {
          "output_type": "stream",
          "text": [
            "Epoch [1/50], Train Accuracy 0.7199, Train Loss: 0.9409 -- Valid Accuracy 0.7990, Valid Loss: 0.6127\n",
            "Epoch [2/50], Train Accuracy 0.8141, Train Loss: 0.5510 -- Valid Accuracy 0.8263, Valid Loss: 0.5001\n",
            "Epoch [3/50], Train Accuracy 0.8390, Train Loss: 0.4722 -- Valid Accuracy 0.8417, Valid Loss: 0.4510\n",
            "Epoch [4/50], Train Accuracy 0.8541, Train Loss: 0.4309 -- Valid Accuracy 0.8497, Valid Loss: 0.4221\n",
            "Epoch [5/50], Train Accuracy 0.8626, Train Loss: 0.4040 -- Valid Accuracy 0.8583, Valid Loss: 0.4021\n",
            "Epoch [6/50], Train Accuracy 0.8688, Train Loss: 0.3840 -- Valid Accuracy 0.8640, Valid Loss: 0.3870\n",
            "Epoch [7/50], Train Accuracy 0.8737, Train Loss: 0.3682 -- Valid Accuracy 0.8672, Valid Loss: 0.3750\n",
            "Epoch [8/50], Train Accuracy 0.8782, Train Loss: 0.3551 -- Valid Accuracy 0.8710, Valid Loss: 0.3653\n",
            "Epoch [9/50], Train Accuracy 0.8818, Train Loss: 0.3440 -- Valid Accuracy 0.8735, Valid Loss: 0.3571\n",
            "Epoch [10/50], Train Accuracy 0.8853, Train Loss: 0.3344 -- Valid Accuracy 0.8758, Valid Loss: 0.3502\n",
            "Epoch [11/50], Train Accuracy 0.8874, Train Loss: 0.3260 -- Valid Accuracy 0.8787, Valid Loss: 0.3443\n",
            "Epoch [12/50], Train Accuracy 0.8903, Train Loss: 0.3184 -- Valid Accuracy 0.8797, Valid Loss: 0.3391\n",
            "Epoch [13/50], Train Accuracy 0.8924, Train Loss: 0.3116 -- Valid Accuracy 0.8810, Valid Loss: 0.3345\n",
            "Epoch [14/50], Train Accuracy 0.8950, Train Loss: 0.3055 -- Valid Accuracy 0.8830, Valid Loss: 0.3303\n",
            "Epoch [15/50], Train Accuracy 0.8971, Train Loss: 0.2998 -- Valid Accuracy 0.8850, Valid Loss: 0.3266\n",
            "Epoch [16/50], Train Accuracy 0.8987, Train Loss: 0.2946 -- Valid Accuracy 0.8862, Valid Loss: 0.3232\n",
            "Epoch [17/50], Train Accuracy 0.9006, Train Loss: 0.2898 -- Valid Accuracy 0.8865, Valid Loss: 0.3200\n",
            "Epoch [18/50], Train Accuracy 0.9025, Train Loss: 0.2854 -- Valid Accuracy 0.8873, Valid Loss: 0.3172\n",
            "Epoch [19/50], Train Accuracy 0.9043, Train Loss: 0.2812 -- Valid Accuracy 0.8880, Valid Loss: 0.3146\n",
            "Epoch [20/50], Train Accuracy 0.9058, Train Loss: 0.2773 -- Valid Accuracy 0.8892, Valid Loss: 0.3121\n",
            "Epoch [21/50], Train Accuracy 0.9073, Train Loss: 0.2737 -- Valid Accuracy 0.8902, Valid Loss: 0.3098\n",
            "Epoch [22/50], Train Accuracy 0.9083, Train Loss: 0.2702 -- Valid Accuracy 0.8907, Valid Loss: 0.3077\n",
            "Epoch [23/50], Train Accuracy 0.9097, Train Loss: 0.2670 -- Valid Accuracy 0.8908, Valid Loss: 0.3057\n",
            "Epoch [24/50], Train Accuracy 0.9111, Train Loss: 0.2640 -- Valid Accuracy 0.8912, Valid Loss: 0.3039\n",
            "Epoch [25/50], Train Accuracy 0.9118, Train Loss: 0.2611 -- Valid Accuracy 0.8920, Valid Loss: 0.3022\n",
            "Epoch [26/50], Train Accuracy 0.9128, Train Loss: 0.2584 -- Valid Accuracy 0.8922, Valid Loss: 0.3007\n",
            "Epoch [27/50], Train Accuracy 0.9138, Train Loss: 0.2558 -- Valid Accuracy 0.8927, Valid Loss: 0.2992\n",
            "Epoch [28/50], Train Accuracy 0.9147, Train Loss: 0.2533 -- Valid Accuracy 0.8930, Valid Loss: 0.2979\n",
            "Epoch [29/50], Train Accuracy 0.9157, Train Loss: 0.2510 -- Valid Accuracy 0.8928, Valid Loss: 0.2966\n",
            "Epoch [30/50], Train Accuracy 0.9164, Train Loss: 0.2488 -- Valid Accuracy 0.8933, Valid Loss: 0.2954\n",
            "Epoch [31/50], Train Accuracy 0.9174, Train Loss: 0.2467 -- Valid Accuracy 0.8933, Valid Loss: 0.2942\n",
            "Epoch [32/50], Train Accuracy 0.9184, Train Loss: 0.2447 -- Valid Accuracy 0.8935, Valid Loss: 0.2931\n",
            "Epoch [33/50], Train Accuracy 0.9197, Train Loss: 0.2428 -- Valid Accuracy 0.8933, Valid Loss: 0.2920\n",
            "Epoch [34/50], Train Accuracy 0.9203, Train Loss: 0.2410 -- Valid Accuracy 0.8933, Valid Loss: 0.2911\n",
            "Epoch [35/50], Train Accuracy 0.9210, Train Loss: 0.2392 -- Valid Accuracy 0.8932, Valid Loss: 0.2902\n",
            "Epoch [36/50], Train Accuracy 0.9215, Train Loss: 0.2375 -- Valid Accuracy 0.8935, Valid Loss: 0.2893\n",
            "Epoch [37/50], Train Accuracy 0.9222, Train Loss: 0.2359 -- Valid Accuracy 0.8942, Valid Loss: 0.2885\n",
            "Epoch [38/50], Train Accuracy 0.9228, Train Loss: 0.2344 -- Valid Accuracy 0.8947, Valid Loss: 0.2877\n",
            "Epoch [39/50], Train Accuracy 0.9235, Train Loss: 0.2329 -- Valid Accuracy 0.8950, Valid Loss: 0.2870\n",
            "Epoch [40/50], Train Accuracy 0.9239, Train Loss: 0.2315 -- Valid Accuracy 0.8950, Valid Loss: 0.2863\n",
            "Epoch [41/50], Train Accuracy 0.9248, Train Loss: 0.2301 -- Valid Accuracy 0.8953, Valid Loss: 0.2857\n",
            "Epoch [42/50], Train Accuracy 0.9250, Train Loss: 0.2288 -- Valid Accuracy 0.8953, Valid Loss: 0.2850\n",
            "Epoch [43/50], Train Accuracy 0.9255, Train Loss: 0.2276 -- Valid Accuracy 0.8960, Valid Loss: 0.2845\n",
            "Epoch [44/50], Train Accuracy 0.9261, Train Loss: 0.2264 -- Valid Accuracy 0.8965, Valid Loss: 0.2839\n",
            "Epoch [45/50], Train Accuracy 0.9267, Train Loss: 0.2252 -- Valid Accuracy 0.8968, Valid Loss: 0.2834\n",
            "Epoch [46/50], Train Accuracy 0.9273, Train Loss: 0.2241 -- Valid Accuracy 0.8972, Valid Loss: 0.2830\n",
            "Epoch [47/50], Train Accuracy 0.9278, Train Loss: 0.2230 -- Valid Accuracy 0.8975, Valid Loss: 0.2824\n",
            "Epoch [48/50], Train Accuracy 0.9283, Train Loss: 0.2220 -- Valid Accuracy 0.8973, Valid Loss: 0.2821\n",
            "Epoch [49/50], Train Accuracy 0.9285, Train Loss: 0.2210 -- Valid Accuracy 0.8975, Valid Loss: 0.2816\n",
            "Epoch [50/50], Train Accuracy 0.9290, Train Loss: 0.2200 -- Valid Accuracy 0.8975, Valid Loss: 0.2812\n"
          ],
          "name": "stdout"
        },
        {
          "output_type": "display_data",
          "data": {
            "image/png": "[encoded data removed]",
            "text/plain": [
              "<Figure size 432x288 with 1 Axes>"
            ]
          },
          "metadata": {
            "tags": [],
            "needs_background": "light"
          }
        },
        {
          "output_type": "display_data",
          "data": {
            "image/png": "[encoded data removed]",
            "text/plain": [
              "<Figure size 432x288 with 1 Axes>"
            ]
          },
          "metadata": {
            "tags": [],
            "needs_background": "light"
          }
        }
      ]
    },
    {
      "cell_type": "markdown",
      "metadata": {
        "id": "Bisc7q7itfPe"
      },
      "source": [
        "### Model Testing [10 pts]"
      ]
    },
    {
      "cell_type": "markdown",
      "metadata": {
        "id": "SH1ddjfw06pn"
      },
      "source": [
        "Report the following for your best model on your test set which has not been seen by the model yet.\n",
        "1. A heatmap for confusion matrix\n",
        "2. Accuracy\n",
        "3. Accuracy for each class\n",
        "4. Macro Precision\n",
        "5. Macro Recall\n",
        "6. Macro F1 Score\n",
        "\n",
        "You may plot the heatmap for the confusion matrix using <b>plot_cm</b> function provided below. \n",
        "\n"
      ]
    },
    {
      "cell_type": "code",
      "metadata": {
        "id": "rYv0LlpSQ-Dx"
      },
      "source": [
        "def plot_cm(cm, class_labels):\n",
        "    fig, ax = plt.subplots()\n",
        "    im = ax.imshow(cm, interpolation='nearest', cmap=plt.cm.Blues)\n",
        "    ax.figure.colorbar(im, ax=ax)\n",
        "    ax.set(xticks=range(len(class_labels)),\n",
        "           yticks=range(len(class_labels)),\n",
        "           xticklabels=class_labels, yticklabels=class_labels,\n",
        "           title=\"Confusion Matrix\",\n",
        "           ylabel='True label',\n",
        "           xlabel='Predicted label')\n",
        "    plt.setp(ax.get_xticklabels(), rotation=45, ha=\"right\",\n",
        "             rotation_mode=\"anchor\")\n",
        "    fmt = 'd'\n",
        "    thresh = cm.max() / 2.\n",
        "    for i in range(cm.shape[0]):\n",
        "        for j in range(cm.shape[1]):\n",
        "            ax.text(j, i, format(cm[i, j], fmt),\n",
        "                    ha=\"center\", va=\"center\",\n",
        "                    color=\"white\" if cm[i, j] > thresh else \"black\")\n",
        "    fig.tight_layout()\n",
        "    return ax"
      ],
      "execution_count": null,
      "outputs": []
    },
    {
      "cell_type": "markdown",
      "metadata": {
        "id": "Oxsq8CSW6XLe"
      },
      "source": [
        "#### Test MLP [3 pts].\n"
      ]
    },
    {
      "cell_type": "code",
      "metadata": {
        "id": "Fm1n5TJa6dR3",
        "colab": {
          "base_uri": "https://localhost:8080/",
          "height": 552
        },
        "outputId": "8163bf06-3399-4002-c421-42cc8bae0538"
      },
      "source": [
        "# TODO: \n",
        "# load trained model\n",
        "model = torch.load(\"/content/drive/MyDrive/cs464/best_mlp.pth\")\n",
        "device = torch.device(\"cpu\")\n",
        "model.to(device)\n",
        "model = model.eval()\n",
        "\n",
        "# test the model by iterating over test batches\n",
        "predictions = []\n",
        "true_labels = []\n",
        "\n",
        "with torch.no_grad():\n",
        "      for batch, (features, labels) in enumerate(test_loader):\n",
        "\n",
        "         outputs = model(features)\n",
        "         cur_predictions = torch.max(outputs, 1)[1]\n",
        "\n",
        "         true_labels.extend(np.array(labels))\n",
        "         predictions.extend(np.array(cur_predictions))\n",
        "\n",
        "# calculate and print performance metrics\n",
        "# 1. A heatmap for confusion matrix 2. Accuracy 3. Accuracy for each class 4. Macro Precision 5. Macro Recall 6. Macro F1 Score\n",
        "\n",
        "accuracy = accuracy_score(true_labels, predictions)\n",
        "print(\"Accuracy:\", accuracy)\n",
        "\n",
        "cm = confusion_matrix(true_labels, predictions)\n",
        "acc_ind = cm.astype('float') / cm.sum(axis=1)[:, np.newaxis]\n",
        "acc_ind = acc_ind.diagonal()\n",
        "for i in range(len(acc_ind)):\n",
        "    print(f\"Accuracy of Class {class_names[i]}:\", acc_ind[i])\n",
        "\n",
        "precision = precision_score(true_labels, predictions, average='macro')\n",
        "print(\"Macro Precision:\", precision)\n",
        "\n",
        "recall = recall_score(true_labels, predictions, average='macro')\n",
        "print(\"Macro Recall:\", recall)\n",
        "\n",
        "f1 = f1_score(true_labels, predictions, average='macro')\n",
        "print(\"Macro F1 Score:\", f1)\n",
        "\n",
        "# plot confusion matrix using class names instead of class labels\n",
        "conf_m = plot_cm(cm, class_names)\n",
        "conf_m"
      ],
      "execution_count": 86,
      "outputs": [
        {
          "output_type": "stream",
          "text": [
            "Accuracy: 0.8764\n",
            "Accuracy of Class T-shirt: 0.887\n",
            "Accuracy of Class Trouser: 0.979\n",
            "Accuracy of Class Pullover: 0.806\n",
            "Accuracy of Class Dress: 0.901\n",
            "Accuracy of Class Coat: 0.809\n",
            "Accuracy of Class Sandal: 0.918\n",
            "Accuracy of Class Shirt: 0.594\n",
            "Accuracy of Class Sneaker: 0.941\n",
            "Accuracy of Class Bag: 0.974\n",
            "Accuracy of Class Ankle Boot: 0.955\n",
            "Macro Precision: 0.8766030938472855\n",
            "Macro Recall: 0.8764000000000001\n",
            "Macro F1 Score: 0.874715240289671\n"
          ],
          "name": "stdout"
        },
        {
          "output_type": "execute_result",
          "data": {
            "text/plain": [
              "<matplotlib.axes._subplots.AxesSubplot at 0x7f85b9f7c290>"
            ]
          },
          "metadata": {
            "tags": []
          },
          "execution_count": 86
        },
        {
          "output_type": "display_data",
          "data": {
            "image/png": "[encoded data removed]",
            "text/plain": [
              "<Figure size 432x288 with 2 Axes>"
            ]
          },
          "metadata": {
            "tags": [],
            "needs_background": "light"
          }
        }
      ]
    },
    {
      "cell_type": "markdown",
      "metadata": {
        "id": "V356T_rI7jXV"
      },
      "source": [
        "#### Test CNN [7 pts]"
      ]
    },
    {
      "cell_type": "code",
      "metadata": {
        "id": "y0pHFbI-9mQf",
        "colab": {
          "base_uri": "https://localhost:8080/",
          "height": 552
        },
        "outputId": "b34773e0-cffe-4d0e-dc73-b1dc50584d4d"
      },
      "source": [
        "# TODO: \n",
        "# load trained model\n",
        "model = torch.load(\"/content/drive/MyDrive/cs464/best_cnn.pth\")\n",
        "device = torch.device(\"cpu\")\n",
        "model.to(device)\n",
        "model = model.eval()\n",
        "\n",
        "\n",
        "# test the model by iterating over test batches\n",
        "predictions = []\n",
        "true_labels = []\n",
        "\n",
        "with torch.no_grad():\n",
        "      for batch, (features, labels) in enumerate(test_loader):\n",
        "\n",
        "         outputs = model(features)\n",
        "         cur_predictions = torch.max(outputs, 1)[1]\n",
        "\n",
        "         true_labels.extend(np.array(labels))\n",
        "         predictions.extend(np.array(cur_predictions))\n",
        "\n",
        "# calculate and print performance metrics\n",
        "accuracy = accuracy_score(true_labels, predictions)\n",
        "print(\"Accuracy:\", accuracy)\n",
        "\n",
        "cm = confusion_matrix(true_labels, predictions)\n",
        "acc_ind = cm.astype('float') / cm.sum(axis=1)[:, np.newaxis]\n",
        "acc_ind = acc_ind.diagonal()\n",
        "for i in range(len(acc_ind)):\n",
        "    print(f\"Accuracy of Class {class_names[i]}:\", acc_ind[i])\n",
        "\n",
        "precision = precision_score(true_labels, predictions, average='macro')\n",
        "print(\"Macro Precision:\", precision)\n",
        "\n",
        "recall = recall_score(true_labels, predictions, average='macro')\n",
        "print(\"Macro Recall:\", recall)\n",
        "\n",
        "f1 = f1_score(true_labels, predictions, average='macro')\n",
        "print(\"Macro F1 Score:\", f1)\n",
        "\n",
        "# plot confusion matrix using class names instead of class labels\n",
        "conf_m = plot_cm(cm, class_names)\n",
        "conf_m.plot()"
      ],
      "execution_count": 82,
      "outputs": [
        {
          "output_type": "stream",
          "text": [
            "Accuracy: 0.9271666666666667\n",
            "Accuracy of Class T-shirt: 0.9192520186995325\n",
            "Accuracy of Class Trouser: 0.9863692688971499\n",
            "Accuracy of Class Pullover: 0.8984113712374582\n",
            "Accuracy of Class Dress: 0.9462051709758131\n",
            "Accuracy of Class Coat: 0.8845188284518829\n",
            "Accuracy of Class Sandal: 0.9862899875363523\n",
            "Accuracy of Class Shirt: 0.7091963545981773\n",
            "Accuracy of Class Sneaker: 0.9758835758835759\n",
            "Accuracy of Class Bag: 0.9870994590095714\n",
            "Accuracy of Class Ankle Boot: 0.9780719900703351\n",
            "Macro Precision: 0.9268200455284337\n",
            "Macro Recall: 0.9271298025359849\n",
            "Macro F1 Score: 0.9260202573382644\n"
          ],
          "name": "stdout"
        },
        {
          "output_type": "execute_result",
          "data": {
            "text/plain": [
              "[]"
            ]
          },
          "metadata": {
            "tags": []
          },
          "execution_count": 82
        },
        {
          "output_type": "display_data",
          "data": {
            "image/png": "[encoded data removed]",
            "text/plain": [
              "<Figure size 432x288 with 2 Axes>"
            ]
          },
          "metadata": {
            "tags": [],
            "needs_background": "light"
          }
        }
      ]
    },
    {
      "cell_type": "markdown",
      "metadata": {
        "id": "iR8UKIYm9T4e"
      },
      "source": [
        "### Model Comparison [20 pts]\n",
        "\n",
        "Answer the following questions. Your answers <b>must not exceed 200 words</b> in total. Provide the reasoning for your claims:\n",
        "<ul>\n",
        "<li> Discuss the figures that you have plotted in <b>Model Training</b> section\n",
        "<li> In theory, are both models suitable for processing image data? Discuss. </li>\n",
        "<li> Which model performed better on the test set? Do results support your claim for the previous question? Discuss. </li>\n",
        "<li> Which measure/metric (among the ones you considered for this question) would you prefer to assess a model trained for multi-class classification task?\n",
        "<li> Compare both models in terms of complexity.\n",
        "<li> Comment on the inter-class similarity based on your results.\n",
        "</ul>"
      ]
    },
    {
      "source": [
        "In the figures obtained in Model Training section, the loss for the validation data is generally higher than training data and the accuracy for the validation data is generally lower than training data. In addition, the curves display similar behavior among training and validation sets.\n",
        "\n",
        "In theory, CNN is more suitable for image classification since it can capture more information about images, however, MLP can be used too although it is more suitable for structural data.\n",
        "\n",
        "Following this fact, CNN model in this assignment performed better on the test set compared to MLP.\n",
        "\n",
        "In this comparison, F1 measure is taken into account since it is harmonic mean of precision and recall.\n",
        "\n",
        "CNN model is more complex than MLP model since it has convolutional, batch normalization, maxpool layers in addition to linear layer, which MLP model only has. This complexity also affects the runtime and training CNN takes longer than training MLP. \n",
        "\n",
        "Interclass similarity is low in both models since most of the classes predicted accurately as it can be seen in the diogonal axises of confusion matrices are darker."
      ],
      "cell_type": "markdown",
      "metadata": {
        "id": "9HLrhE-jgWY8"
      }
    }
  ]
}